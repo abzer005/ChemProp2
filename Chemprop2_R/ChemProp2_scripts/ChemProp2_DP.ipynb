{
 "cells": [
  {
   "cell_type": "markdown",
   "id": "2dc69c1a",
   "metadata": {},
   "source": [
    "## ChemProp2\n",
    "**Authors:** Abzer Kelminal (abzer.shah@uni-tuebingen.de) <br>\n",
    "**Edited by:** Daniel Petras (daniel.petras@uni-tuebingen.de) <br>\n",
    "**Accepted Input file formats:** .txt,.tsv and .csv files <br>\n",
    "**Outputs:** .csv files, .svg images  <br>\n",
    "**Dependencies:** ggplot2, dplyr, svglite"
   ]
  },
  {
   "cell_type": "markdown",
   "id": "5c043b6b",
   "metadata": {},
   "source": [
    "### About Input files:\n",
    "\n",
    "- **Feature_file** is obtained by performing Feature based Molecular Networking on the data using MZmine software.\n",
    "- **Nw_edge file** has the information of Feature IDs that are similar (not the same) in the columns 'Feature_ID_1' & 'Feature_ID_2'. This file is an output of GNPS\n",
    "- **Clusterinfo file** is an output of FBMN"
   ]
  },
  {
   "cell_type": "markdown",
   "id": "f2b96d30",
   "metadata": {},
   "source": [
    "<div class=\"alert alert-block alert-warning\">\n",
    "<b>Setting the working directory and creating a result directory:</b>\n",
    "</div>"
   ]
  },
  {
   "cell_type": "code",
   "execution_count": null,
   "id": "944aee80",
   "metadata": {},
   "outputs": [],
   "source": [
    "# setting the current directory as the working directory\n",
    "Directory <- normalizePath(readline(\"Enter the path of the folder with input files: \"),\"/\",mustWork=FALSE)\n",
    "setwd(Directory)"
   ]
  },
  {
   "cell_type": "code",
   "execution_count": null,
   "id": "25f713b9",
   "metadata": {},
   "outputs": [],
   "source": [
    "getwd()"
   ]
  },
  {
   "cell_type": "code",
   "execution_count": null,
   "id": "6beacfa9",
   "metadata": {},
   "outputs": [],
   "source": [
    "# install the package if not present\n",
    "\n",
    "#install.packages('ggplot2')\n",
    "#install.packages('dplyr')\n",
    "#install.packages('svglite')"
   ]
  },
  {
   "cell_type": "code",
   "execution_count": null,
   "id": "55682f69",
   "metadata": {},
   "outputs": [],
   "source": [
    "library('ggplot2')\n",
    "library('dplyr')\n",
    "library('tidyr')\n",
    "library('svglite') # saving ggplots as svg"
   ]
  },
  {
   "cell_type": "code",
   "execution_count": null,
   "id": "b24ba215",
   "metadata": {},
   "outputs": [],
   "source": [
    "# Getting all the files in the folder\n",
    "dirs <- dir(path=paste(getwd(), sep=\"\"), full.names=TRUE, recursive=TRUE)\n",
    "folders <- unique(dirname(dirs))\n",
    "files = list.files(folders, full.names=TRUE)\n",
    "files_1 <- basename((files))\n",
    "files_2 <- dirname((files))"
   ]
  },
  {
   "cell_type": "code",
   "execution_count": null,
   "id": "2a598170",
   "metadata": {},
   "outputs": [],
   "source": [
    "# Creating a Result folder\n",
    "dir.create(path=paste(files_2[[1]], \"_Results\", sep=\"\"), showWarnings = TRUE)\n",
    "fName <-paste(files_2[[1]], \"_Results\", sep=\"\")"
   ]
  },
  {
   "cell_type": "markdown",
   "id": "4dcc2824",
   "metadata": {},
   "source": [
    "<div class=\"alert alert-block alert-warning\">\n",
    "<b>Specifying the input files for ChemProp calculation:</b>\n",
    "</div>"
   ]
  },
  {
   "cell_type": "markdown",
   "id": "869843a0",
   "metadata": {},
   "source": [
    "**<font color='red'> In the following line, enter the required file ID numbers separated by commas. For example as: 1,2,3 </font>**"
   ]
  },
  {
   "cell_type": "code",
   "execution_count": null,
   "id": "a6d2b254",
   "metadata": {},
   "outputs": [],
   "source": [
    "print(files_1)\n",
    "input <- as.double(unlist(strsplit(readline(\"Specify the ID numbers of feature-file, metadata, network edge file:\"), split=\",\")))"
   ]
  },
  {
   "cell_type": "code",
   "execution_count": null,
   "id": "0d43fe85",
   "metadata": {},
   "outputs": [],
   "source": [
    "#Gets the extension of each file. Ex:csv\n",
    "pattern <- c()\n",
    "for (i in files_1){\n",
    "  sep_file <- substr(i, nchar(i)-2,nchar(i))\n",
    "  pattern <- rbind(pattern,sep_file)\n",
    "}\n",
    "#pattern"
   ]
  },
  {
   "cell_type": "code",
   "execution_count": null,
   "id": "0c95cfde",
   "metadata": {},
   "outputs": [],
   "source": [
    "ft <- read.csv(files_1[input[1]],sep = ifelse(pattern[input[1]]!=\"csv\",\"\\t\",\",\"), header=TRUE, row.names = 1,check.names = FALSE) # By applying 'row.names = 1', the 1st column 'ID' becomes the row names\n",
    "md <-read.csv(files_1[input[2]], sep = ifelse(pattern[input[2]]!=\"csv\",\"\\t\",\",\"), header=TRUE, row.names = 1,check.names = FALSE)\n",
    "nw <-read.csv(files_1[input[3]], sep = ifelse(pattern[input[3]]!=\"csv\",\"\\t\",\",\"), header = TRUE,check.names = FALSE)"
   ]
  },
  {
   "cell_type": "code",
   "execution_count": null,
   "id": "f6ab427a",
   "metadata": {},
   "outputs": [],
   "source": [
    "#If you have cluster_info file:\n",
    "if(readline(\"Do you have Cluster information summary file? Y/N:\")==\"Y\"){\n",
    "  cl <- as.double(readline(\"Enter the ID number of cluster info file:\"))\n",
    "  cl <- read.csv(files_1[cl],sep=ifelse(pattern[cl]!=\"csv\",\"\\t\",\",\"), header = TRUE,check.names = FALSE)\n",
    "}"
   ]
  },
  {
   "cell_type": "markdown",
   "id": "97040b64",
   "metadata": {},
   "source": [
    "Lets check if the data has been read correclty!!"
   ]
  },
  {
   "cell_type": "code",
   "execution_count": null,
   "id": "f46c3718",
   "metadata": {},
   "outputs": [],
   "source": [
    "head(ft) #head function returns the header (upto first 6 rows)of each files.\n",
    "dim(ft) #looking at the dimensions(rows & columns) of ft"
   ]
  },
  {
   "cell_type": "code",
   "execution_count": null,
   "id": "8f6aecc7",
   "metadata": {
    "scrolled": false
   },
   "outputs": [],
   "source": [
    "head(md)\n",
    "dim(md)"
   ]
  },
  {
   "cell_type": "code",
   "execution_count": null,
   "id": "2a94899a",
   "metadata": {},
   "outputs": [],
   "source": [
    "if(readline(\"Is Metadata information given column-wise? Y/N:\") == \"N\"){\n",
    "  md <- as.data.frame(t(md))\n",
    "} "
   ]
  },
  {
   "cell_type": "code",
   "execution_count": null,
   "id": "6c27060b",
   "metadata": {},
   "outputs": [],
   "source": [
    "# To remove the empty columns (with only NAs) present in the files\n",
    "md <- md[,colSums(is.na(md))< nrow(md)]\n",
    "dim(md)"
   ]
  },
  {
   "cell_type": "code",
   "execution_count": null,
   "id": "c3aecc3b",
   "metadata": {},
   "outputs": [],
   "source": [
    "ft<- ft[,order(colnames(ft))] #ordering the ft by its column names\n",
    "md <-md[order(rownames(md)),] #ordering the md by its row names"
   ]
  },
  {
   "cell_type": "code",
   "execution_count": null,
   "id": "16fd543d",
   "metadata": {},
   "outputs": [],
   "source": [
    "print(colnames(ft))\n",
    "print(rownames(md))"
   ]
  },
  {
   "cell_type": "code",
   "execution_count": null,
   "id": "1e2ad9cf",
   "metadata": {},
   "outputs": [],
   "source": [
    "# Removing Peak area extensions in the names of feature table and metadata if any present\n",
    "\n",
    "#colnames(ft <- gsub(' Peak area','',colnames(ft))\n",
    "#rownames(md) <- gsub(' Peak area','',rownames(md))"
   ]
  },
  {
   "cell_type": "code",
   "execution_count": null,
   "id": "326fdaee",
   "metadata": {},
   "outputs": [],
   "source": [
    "#Getting the extension type of the files \n",
    "Ext<-unlist(strsplit(readline('Give the extension of your filetype as same as given in ft and md (Ex:mzML, mzXML):'),split=','))\n",
    "Ext <- gsub(\" \",\"\", Ext)  #remove if there is any space in the given input\n",
    "\n",
    "new_ft <- ft[,grep(Ext[1],colnames(ft))] #getting only the columns with, for ex: mzml on its name\n",
    "new_md <- md[grep(Ext[2],rownames(md)),] #getting only the rows with, for ex: mzml on its name"
   ]
  },
  {
   "cell_type": "markdown",
   "id": "2c049e6e",
   "metadata": {},
   "source": [
    "<div class=\"alert alert-block alert-warning\">\n",
    "<b> Arranging the feature file and metadata:</b>\n",
    "</div> <br>\n",
    "In order to perform ChemProp calculation, arrange the feature file and metadata in such a way that the column names of feature table and rownames in metadata table are the same."
   ]
  },
  {
   "cell_type": "code",
   "execution_count": null,
   "id": "6d291ba2",
   "metadata": {},
   "outputs": [],
   "source": [
    "#lists the colnames(ft) which are not present in md\n",
    "unmatched_ft <- colnames(new_ft)[which(is.na(match(colnames(new_ft),rownames(new_md))))] \n",
    "cat(\"These columns of feature table are not present in metadata:\", unmatched_ft)"
   ]
  },
  {
   "cell_type": "code",
   "execution_count": null,
   "id": "b229f779",
   "metadata": {},
   "outputs": [],
   "source": [
    "#lists the rownames of md which are not present in ft\n",
    "unmatched_md <- rownames(new_md)[which(is.na(match(rownames(new_md),colnames(new_ft))))] \n",
    "cat(\"These rows of metadata are not present in feature table:\", unmatched_md)"
   ]
  },
  {
   "cell_type": "code",
   "execution_count": null,
   "id": "a16e79ee",
   "metadata": {},
   "outputs": [],
   "source": [
    "#Removing those unmatching columns and rows:\n",
    "if(is.null(unmatched_ft)==F){new_ft <- subset(new_ft, select = -c(which(is.na(match(colnames(new_ft),rownames(new_md))))) )}\n",
    "if(is.null(unmatched_md)==F){new_md <- new_md[-c(which(is.na(match(rownames(new_md),colnames(new_ft))))),]}"
   ]
  },
  {
   "cell_type": "code",
   "execution_count": null,
   "id": "039474c9",
   "metadata": {},
   "outputs": [],
   "source": [
    "dim(new_ft)\n",
    "dim(new_md)"
   ]
  },
  {
   "cell_type": "code",
   "execution_count": null,
   "id": "a3827a94",
   "metadata": {},
   "outputs": [],
   "source": [
    "identical(colnames(new_ft),rownames(new_md))#checking if they are the same"
   ]
  },
  {
   "cell_type": "markdown",
   "id": "5bea00a5",
   "metadata": {},
   "source": [
    "Now, we have both our feature table and metadata in the same order."
   ]
  },
  {
   "cell_type": "markdown",
   "id": "4b56929c",
   "metadata": {},
   "source": [
    "<div class=\"alert alert-block alert-warning\">\n",
    "<b> Subsetting the feature table and metadata based on user-defined condition:</b>\n",
    "</div>"
   ]
  },
  {
   "cell_type": "code",
   "execution_count": null,
   "id": "0e3d99dd",
   "metadata": {},
   "outputs": [],
   "source": [
    "head(new_md)\n",
    "print(matrix(data=colnames(new_md),nrow=length(colnames(new_md))))"
   ]
  },
  {
   "cell_type": "code",
   "execution_count": null,
   "id": "5d6cb66a",
   "metadata": {},
   "outputs": [],
   "source": [
    "Condition <- as.double(unlist(strsplit(readline(\"Enter the IDs of interested attributes separated by commas:\"),split=\",\")))"
   ]
  },
  {
   "cell_type": "code",
   "execution_count": null,
   "id": "72403f96",
   "metadata": {},
   "outputs": [],
   "source": [
    "#Specifying which conditions to keep under the selected attributes\n",
    "\n",
    "Meta_Filtered <-new_md\n",
    "for(i in 1:length(Condition)){\n",
    "    \n",
    "    #Shows the different levels within each selected condition:\n",
    "    Levels_Cdtn <- levels(as.factor(Meta_Filtered[,Condition[i]]))\n",
    "    print(matrix(Levels_Cdtn,length(Levels_Cdtn)))\n",
    "    \n",
    "    #These lines are not needed in R console, but in Jupyter Notebook to get the previous print statement working\n",
    "    flush.console()  \n",
    "    Sys.sleep(0.2)\n",
    "    \n",
    "    #Among the shown levels of ana ttribute, select the ones to keep\n",
    "    Cdtn <- as.double(unlist(strsplit(readline(\"Enter the IDs of condition(s) you want to KEEP (separated by commas):\"), split=',')))\n",
    "    Levels_Cdtn[Cdtn]\n",
    "    \n",
    "    #Selecting only rows in meta_filtered that match the condition\n",
    "    Meta_Filtered <- Meta_Filtered[(Meta_Filtered[,Condition[i]] == Levels_Cdtn[Cdtn]),]\n",
    "  }\n",
    "\n",
    "#Removing all the rows with only NAs\n",
    "Meta_Final <- subset(Meta_Filtered,rowSums(is.na(Meta_Filtered))!=ncol(Meta_Filtered))"
   ]
  },
  {
   "cell_type": "code",
   "execution_count": null,
   "id": "0d5b0179",
   "metadata": {},
   "outputs": [],
   "source": [
    "head(Meta_Final)\n",
    "dim(Meta_Final)"
   ]
  },
  {
   "cell_type": "code",
   "execution_count": null,
   "id": "48058cb8",
   "metadata": {},
   "outputs": [],
   "source": [
    "#Picking only the columns in ft that are same as rownames in final metadata\n",
    "ft_Condition <- new_ft[,which(colnames(new_ft)%in%rownames(Meta_Final))] "
   ]
  },
  {
   "cell_type": "code",
   "execution_count": null,
   "id": "c5f85269",
   "metadata": {},
   "outputs": [],
   "source": [
    "head(ft_Condition)\n",
    "dim(ft_Condition)"
   ]
  },
  {
   "cell_type": "markdown",
   "id": "57a8a948",
   "metadata": {},
   "source": [
    "**Filtering the metadata attribute to be used for ChemProp2 correlation calculation:**\n",
    "- It is important to have the attribute in a numeric form as it is used in calculating ChemProp scores. Hence, any letters, if present in the attribute, should be removed.\n",
    "- The below lines pick the attribute containing the longitudinal data and does the above mentioned."
   ]
  },
  {
   "cell_type": "code",
   "execution_count": null,
   "id": "f3c1b100",
   "metadata": {},
   "outputs": [],
   "source": [
    "print(matrix(data=colnames(new_md),nrow=length(colnames(new_md))))\n",
    "md_ID <- as.double(readline(\"Enter the ID of the Metadata attribute for calculating ChemProp:\"))"
   ]
  },
  {
   "cell_type": "code",
   "execution_count": null,
   "id": "973a5469",
   "metadata": {},
   "outputs": [],
   "source": [
    "Meta_ChemProp <- Meta_Final %>% select(contains(colnames(Meta_Final)[md_ID]))\n",
    "Meta_ChemProp\n",
    "\n",
    "print(levels(as.factor(Meta_ChemProp[,1]))) #seeing the levels of the attribute for ChemProp calculation"
   ]
  },
  {
   "cell_type": "code",
   "execution_count": null,
   "id": "a87dd9b0",
   "metadata": {},
   "outputs": [],
   "source": [
    "if(readline('Are there any letters present in the attribute? Y/N:')=='Y')\n",
    "{Meta_ChemProp[,1] <- gsub(readline('Enter the letter to be removed from the ChemProp attribute:'),'',Meta_ChemProp[,1])}\n",
    "\n",
    "Meta_ChemProp"
   ]
  },
  {
   "cell_type": "code",
   "execution_count": null,
   "id": "6abd781b",
   "metadata": {},
   "outputs": [],
   "source": [
    "typeof(Meta_ChemProp[,1])"
   ]
  },
  {
   "cell_type": "code",
   "execution_count": null,
   "id": "5c4eec1f",
   "metadata": {},
   "outputs": [],
   "source": [
    "Meta_ChemProp[,1] <- as.numeric(Meta_ChemProp[,1])\n",
    "typeof(Meta_ChemProp[,1])"
   ]
  },
  {
   "cell_type": "markdown",
   "id": "3831156e",
   "metadata": {},
   "source": [
    "### Chemical Proportionality score:\n",
    "\n",
    "- The below code adds a column of **Chemical Proportionality score** to the Nw_edge file. In addition to that, columns with information such as absolute values of ChemProp score and the sign of Chemprop scores are also added.\n",
    "- In addition to ChemProp score using Pearson correlation method (which is ideal for linear transformations), the below code also generates scores using other methods such as spearman correlation, natural log transformation, square root transformations, for supporting non-linear data "
   ]
  },
  {
   "cell_type": "code",
   "execution_count": null,
   "id": "8ed36d41",
   "metadata": {},
   "outputs": [],
   "source": [
    "Feature_file <- ft_Condition\n",
    "#Meta_ChemProp[,1] <- as.numeric(Meta_ChemProp[,1])"
   ]
  },
  {
   "cell_type": "code",
   "execution_count": null,
   "id": "3144b99e",
   "metadata": {},
   "outputs": [],
   "source": [
    "head(Feature_file)\n",
    "#Does the rownames of the Feature table only contains the ID information:\n",
    "if(readline('Does the rownames of the Feature table only contains the row ID? Y/N:')=='N'){\n",
    "    Split_Values <- strsplit(as.character(rownames(Feature_file)),'_') \n",
    "    Feature_file <- data.frame(do.call(rbind, Split_Values),Feature_file)\n",
    "    rownames(Feature_file) <- Feature_file[,1]\n",
    "    Feature_file <- Feature_file[,-1:-3]\n",
    "    colnames(Feature_file) <- gsub('X','',colnames(Feature_file))\n",
    "}"
   ]
  },
  {
   "cell_type": "code",
   "execution_count": null,
   "id": "a9977c61",
   "metadata": {},
   "outputs": [],
   "source": [
    "head(Feature_file)"
   ]
  },
  {
   "cell_type": "code",
   "execution_count": null,
   "id": "c0a7503b",
   "metadata": {},
   "outputs": [],
   "source": [
    "ChemProp2 <- c()\n",
    "ChemProp_spearman <-c()\n",
    "ChemProp_log <- c()\n",
    "ChemProp_sqrt <- c()\n",
    "\n",
    "for (i in 1:NROW(Nw_edge)) {\n",
    "  \n",
    "  x<- subset(Feature_file, rownames(Feature_file) == Nw_edge[i,1]) # rownames(Feature_file) is the feature ID or cluster ID. The subset command gets the 'Feature ID 1' from the first column of Nw_edge. Then picks the row from the Feature_file corresponding to the 'Feature ID 1'\n",
    "  x<- rbind(x,subset(Feature_file, rownames(Feature_file) == Nw_edge[i,2]))\n",
    "  # x is the subset data which has the Feature ID 1 and 2 specified according to Nw_edge file.\n",
    "  reorder_id<-match(rownames(Meta_ChemProp),colnames(x)) #Match gives the position in which B (the column names of Meta data) is present in A (subset data) and store the position info in reorder_id \n",
    "  reordered_x <- data.frame(t(x[reorder_id])) #Rearranging x (subset data) with respect to the new positions and transposing it\n",
    "  reordered_x <- cbind(Meta_ChemProp[,1],reordered_x) # Combining the metadata column (here, timepoint) with reordered_x\n",
    "  #Thus, the resulting reordered_x contains 3 columns, such as: 'Metadata info(eg., Timepoint)', 'Feature ID 1', 'Feature ID 2'\n",
    "  \n",
    "  corr_result<-cor(reordered_x, method = \"pearson\") # Performing Pearson correlation\n",
    "  ChemProp_score <- (corr_result[1,3] - corr_result[1,2]) / 2 # ChemProp2 score is obtained by: (Pearson(Feature ID 2) - Pearson(Feature ID 1)) / 2\n",
    "  \n",
    "  corr_2 <- cor(reordered_x, method = \"spearman\") # Performing Spearman correlation\n",
    "  Score_spearman <- (corr_2[1,3] - corr_2[1,2]) / 2\n",
    "  \n",
    "  log_reorderedX <- cbind(reordered_x[,1],log(reordered_x[,2:3]+1)) # Performing natural log transformations on Feature IDs 1 and 2\n",
    "  corr_3 <- cor(log_reorderedX) # performing (pearson) correlation on the log transformed data\n",
    "  Score_log <-(corr_3[1,3] - corr_3[1,2]) / 2\n",
    "  \n",
    "  sqrt_reorderedX <- cbind(reordered_x[,1],sqrt(reordered_x[,2:3])) # Taking square roots of Feature IDs 1 and 2\n",
    "  corr_4 <- cor(sqrt_reorderedX) # performing (pearson) correlation on the square roots\n",
    "  Score_sqrt <- (corr_4[1,3] - corr_4[1,2])/2\n",
    "  \n",
    "  ChemProp2 <- rbind(ChemProp2, ChemProp_score, deparse.level = 0) # deparse.level = 0 constructs no labels; if not given, the resultant matrix has row names (for all rows) created from the input arguments such as 'ChemProp_score' here.\n",
    "  ChemProp_spearman <- rbind(ChemProp_spearman,Score_spearman,  deparse.level = 0)\n",
    "  ChemProp_log <- rbind(ChemProp_log,Score_log,  deparse.level = 0)\n",
    "  ChemProp_sqrt <- rbind(ChemProp_sqrt, Score_sqrt, deparse.level = 0)\n",
    "}\n",
    "    \n",
    "Nw_edge_new <- cbind (Nw_edge, ChemProp2,ChemProp_spearman,ChemProp_log,ChemProp_sqrt)\n",
    "rownames(Nw_edge_new) <- NULL\n",
    "#Nw_edge_new <- Nw_edge_new[order(Nw_edge_new$ChemProp2, decreasing = TRUE), ] # Rearranging Nw_edge_new in the decreasing order of ChemProp2 score\n",
    "\n",
    "Abs_values <- abs(Nw_edge_new[,,(length(Nw_edge)+1):(length(Nw_edge)+4)])\n",
    "colnames(Abs_values) <- paste(\"abs\", colnames(Abs_values), sep = \"_\")\n",
    "\n",
    "Sign_ChemProp2 <- sign(Nw_edge_new$ChemProp2) #getting only the sign of ChemProp2 as 1 or -1\n",
    "         \n",
    "ChemProp2_file <- cbind(Nw_edge_new,Abs_values,Sign_ChemProp2)"
   ]
  },
  {
   "cell_type": "code",
   "execution_count": null,
   "id": "c23a73bd",
   "metadata": {},
   "outputs": [],
   "source": [
    "head(ChemProp2_file)\n",
    "#write.csv(ChemProp2_file,paste0(fName,'/20220608_ChemProp2_Result.csv'),row.names = F)"
   ]
  },
  {
   "cell_type": "markdown",
   "id": "a79cf2db",
   "metadata": {},
   "source": [
    "<div class=\"alert alert-block alert-warning\">\n",
    "<b>Plotting scatterplots to see interesting mass changes and saving them automatically onto result folder:</b>\n",
    "</div> "
   ]
  },
  {
   "cell_type": "markdown",
   "id": "1382f9f6",
   "metadata": {},
   "source": [
    "The below condition gets the scatterplots of network pairs with ChemProp2 scores lower than -0.8. Instead of ChemProp2, one can aslo use 'DeltaMZ' to see plots for particular mass changes.  \n",
    "For ex: `requiredRows <- which(Nw_edge_new$DeltaMZ == -42.011 & is.na(ChemProp2)!=T)`"
   ]
  },
  {
   "cell_type": "code",
   "execution_count": null,
   "id": "65ee64e4",
   "metadata": {},
   "outputs": [],
   "source": [
    "requiredRows <- which(Nw_edge_new$DeltaMZ == -42.011 & is.na(ChemProp2)!=T) \n",
    "print(paste0(\"No.of Scatter Plots in the Results Folder will be: \",length(requiredRows)))"
   ]
  },
  {
   "cell_type": "code",
   "execution_count": null,
   "id": "584523fc",
   "metadata": {},
   "outputs": [],
   "source": [
    "# Function for synthesizing the polynomial regression:\n",
    "PolyRegression <- function(input_x,input_y, deg){\n",
    "  poly_model <- lm(input_y ~ poly(input_x,degree=deg))\n",
    "  pred_res <- predict(poly_model, newdata = data.frame(input_x))\n",
    "}"
   ]
  },
  {
   "cell_type": "code",
   "execution_count": null,
   "id": "868095c6",
   "metadata": {},
   "outputs": [],
   "source": [
    "# Specifying a degree for our polynomial fit. One can play around with these values to get the best fit. \n",
    "PolyDeg <- as.numeric(readline('Enter a value between 1-10:'))"
   ]
  },
  {
   "cell_type": "markdown",
   "id": "e25d2292",
   "metadata": {},
   "source": [
    "**Check if you excluded the controls, if not, exclude it** "
   ]
  },
  {
   "cell_type": "code",
   "execution_count": null,
   "id": "9a68ee1b",
   "metadata": {},
   "outputs": [],
   "source": [
    "for (i in requiredRows){\n",
    "  print(i)\n",
    "  y<- subset(Feature_file, rownames(Feature_file) == Nw_edge[i,1]) # rownames(Feature_file) is the feature ID or cluster ID.\n",
    "  y<- rbind(y,subset(Feature_file, rownames(Feature_file) == Nw_edge[i,2]))\n",
    "  reordered_y <- data.frame(t(y[match(rownames(Meta_ChemProp),colnames(y))])) #Rearranging x (subset data) with respect to the new positions and transposing it\n",
    "  reordered_y <- cbind(Meta_ChemProp[,1],reordered_y) \n",
    "  \n",
    "  reordered_y <- reordered_y[-grep('_C',rownames(reordered_y)),]   #Excluding the controls\n",
    "  \n",
    "  par(mar=c(5,4,4,6), mgp=c(2, 1,0), cex.axis=1, cex.lab=1, cex.main=1,xpd=FALSE)\n",
    "  #svglite(filename=paste0(fName, \"/ScatterPlot_RowNo_\",i,\"_ChemProp_\",round(ChemProp_score[i],4), \".svg\", sep=\"\"), width=10, height=8, bg='white')\n",
    "  plot(reordered_y[,1],reordered_y[,2],pch=16,\n",
    "       main=paste0(\"Scatter Plot of Feature IDs: \",gsub('X','',colnames(reordered_y[2])),\" vs \",gsub('X','',colnames(reordered_y[3]))), \n",
    "       sub=paste0(\"ChemProp2 score: \",round(ChemProp_score,5)),\n",
    "       col=\"red\",xlab = MetaData_Name,\n",
    "       ylab= paste0(\"Abundance: ID \",gsub('X','',colnames(reordered_y[2]))))\n",
    "  lines(reordered_y[,1],PolyRegression(reordered_y[,1],reordered_y[,2],deg=PolyDeg),col=\"red\")\n",
    "  \n",
    "  par(new = TRUE) # Add a new secondary plot\n",
    "  plot(reordered_y[,1],reordered_y[,3],pch=16, col=\"blue\", # Create second plot without axes\n",
    "       axes=FALSE, xlab = \"\", ylab = \"\")\n",
    "  ymin = round(min(reordered_y[,3]),-1)\n",
    "  ymax = round(max(reordered_y[,3]),-1)\n",
    "  \n",
    "  lines(reordered_y[,1],PolyRegression(reordered_y[,1],reordered_y[,3],deg=PolyDeg),col=\"blue\")\n",
    "  \n",
    "  axis(side = 4, at =round(seq(ymin,ymax,length.out = 5)))   # Add second axis\n",
    "  mtext( paste0(\"Abundance: ID \",gsub('X','',colnames(reordered_y[3]))), side = 4,line=2)  \n",
    "  legend(\"top\",inset=c(0.02,0),\n",
    "         legend=c(gsub('X','ID ',colnames(reordered_y[2])), gsub('X','ID ',colnames(reordered_y[3]))),\n",
    "         col=c(\"red\", \"blue\"), \n",
    "         lty=1:2, cex=0.8,pch=16)\n",
    "    \n",
    "  #dev.off()\n",
    "\n",
    "}"
   ]
  },
  {
   "cell_type": "markdown",
   "id": "6ec5cd36",
   "metadata": {},
   "source": [
    "<div class=\"alert alert-block alert-warning\">\n",
    "<b>Combining the information from clusterinfo file onto ChemProp file:</b>\n",
    "</div> "
   ]
  },
  {
   "cell_type": "code",
   "execution_count": null,
   "id": "8cc04c77",
   "metadata": {},
   "outputs": [],
   "source": [
    "ChemProp_info <- c()\n",
    "for (i in 1:nrow(ChemProp2_file)){\n",
    "  y1<- subset(cl, ChemProp2_file[i,1] == cl$`cluster index`)\n",
    "  colnames(y1) <- paste(\"Compound1\", colnames(y1), sep = \"_\")\n",
    "  y2<- subset(cl, ChemProp2_file[i,2] == cl$`cluster index`)\n",
    "  colnames(y2) <- paste(\"Compound2\", colnames(y2), sep = \"_\")\n",
    "  Final <- cbind(ChemProp2_file[i,],y1[,31:ncol(y1)],y2[,31:ncol(y2)])\n",
    "  ChemProp_info <- rbind(ChemProp_info,Final)\n",
    "}\n",
    "\n",
    "ChemProp_NAs_replaced <- ChemProp2_file %>% mutate_if(is.numeric, ~replace(., is.na(.), 0)) # NA values replaced with zeros\n",
    "\n",
    "write.csv(ChemProp_info,paste0(fName,'/20220608_ChemProp2_Result_AlsoWithClusterInfo.csv'),row.names = F)\n",
    "write.csv(ChemProp_NAs_replaced,paste0(fName,'/20220608_ChemProp2_replaced_NAs.csv'),row.names=F)"
   ]
  },
  {
   "cell_type": "markdown",
   "id": "49fc6946",
   "metadata": {},
   "source": [
    "<div class=\"alert alert-block alert-warning\">\n",
    "<b>Visualizing the distribution of different ChemProp scores of the sample data:</b>\n",
    "</div>"
   ]
  },
  {
   "cell_type": "code",
   "execution_count": null,
   "id": "4bb82115",
   "metadata": {},
   "outputs": [],
   "source": [
    "bins <- seq(-1,1,0.1)\n",
    "SCORES<- c()\n",
    "\n",
    "for (i in (length(Nw_edge)+1):(length(Nw_edge)+4)){\n",
    "  scores<- cut(as.matrix(ChemProp2_file[,i]),bins,labels=as.character(seq(-0.9,1,0.1))) #cut function store the data into the appropriate bins\n",
    "  scores_table<-cbind(transform(table(scores)), Condition=paste0(\"Freq_\",names(ChemProp2_file[i])))\n",
    "  SCORES <- rbind(SCORES,scores_table)\n",
    "}\n",
    "\n",
    "HistPlot <- ggplot(SCORES, aes(scores, Freq, fill = Condition)) +\n",
    "  geom_bar(stat=\"identity\", position = \"dodge\", width=0.8) + \n",
    "  scale_fill_brewer(palette = \"Set1\") +\n",
    "  ggtitle(label=\"Frequency plot\") +\n",
    "  theme(text = element_text(size=14)) +\n",
    "  xlab(\"Range\") + ylab(\"Frequency\") + labs(fill = \"Frequency scores:\") + \n",
    "  theme(text = element_text(size=12,face=\"bold\"),\n",
    "        axis.text.x = element_text(angle = 90, vjust = 0.5, hjust=1),   # setting the angle for the x label\n",
    "        axis.text.y = element_text(angle = 45, vjust = 0.5, hjust=1)) + # setting the angle for the y label\n",
    "  theme_bw() + #white background and gray grid lines\n",
    "  theme(plot.title = element_text(hjust = 0.5,size=16,face = \"bold\"))   # centering the plot title \n",
    "  \n",
    "HistPlot"
   ]
  },
  {
   "cell_type": "code",
   "execution_count": null,
   "id": "864284f6",
   "metadata": {},
   "outputs": [],
   "source": []
  }
 ],
 "metadata": {
  "kernelspec": {
   "display_name": "R",
   "language": "R",
   "name": "ir"
  },
  "language_info": {
   "codemirror_mode": "r",
   "file_extension": ".r",
   "mimetype": "text/x-r-source",
   "name": "R",
   "pygments_lexer": "r",
   "version": "3.6.1"
  }
 },
 "nbformat": 4,
 "nbformat_minor": 5
}
